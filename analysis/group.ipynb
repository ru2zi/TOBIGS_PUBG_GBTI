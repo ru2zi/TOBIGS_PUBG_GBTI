{
  "nbformat": 4,
  "nbformat_minor": 0,
  "metadata": {
    "colab": {
      "provenance": []
    },
    "kernelspec": {
      "name": "python3",
      "display_name": "Python 3"
    },
    "language_info": {
      "name": "python"
    }
  },
  "cells": [
    {
      "cell_type": "code",
      "execution_count": 3,
      "metadata": {
        "id": "Z_CmXBa3Wz7U"
      },
      "outputs": [],
      "source": [
        "import pandas as pd\n",
        "import numpy as np\n",
        "import seaborn as sns\n",
        "import matplotlib.pyplot as plt\n",
        "import warnings\n",
        "warnings.filterwarnings(\"ignore\")"
      ]
    },
    {
      "cell_type": "code",
      "source": [
        "!pip install hdbscan"
      ],
      "metadata": {
        "colab": {
          "base_uri": "https://localhost:8080/"
        },
        "id": "Fmz5Z_vbeCNg",
        "outputId": "4683dd6d-4dcf-44e3-c04c-3cc2440919be"
      },
      "execution_count": 21,
      "outputs": [
        {
          "output_type": "stream",
          "name": "stdout",
          "text": [
            "Requirement already satisfied: hdbscan in /usr/local/lib/python3.10/dist-packages (0.8.40)\n",
            "Requirement already satisfied: numpy<3,>=1.20 in /usr/local/lib/python3.10/dist-packages (from hdbscan) (1.26.4)\n",
            "Requirement already satisfied: scipy>=1.0 in /usr/local/lib/python3.10/dist-packages (from hdbscan) (1.13.1)\n",
            "Requirement already satisfied: scikit-learn>=0.20 in /usr/local/lib/python3.10/dist-packages (from hdbscan) (1.6.0)\n",
            "Requirement already satisfied: joblib>=1.0 in /usr/local/lib/python3.10/dist-packages (from hdbscan) (1.4.2)\n",
            "Requirement already satisfied: threadpoolctl>=3.1.0 in /usr/local/lib/python3.10/dist-packages (from scikit-learn>=0.20->hdbscan) (3.5.0)\n"
          ]
        }
      ]
    },
    {
      "cell_type": "code",
      "source": [
        "import re\n",
        "from sklearn.preprocessing import MinMaxScaler\n",
        "from sklearn.cluster import KMeans\n",
        "import hdbscan\n",
        "from sklearn.model_selection import train_test_split\n",
        "from sklearn.svm import SVC\n",
        "import scipy.stats as stats\n",
        "import joblib"
      ],
      "metadata": {
        "id": "rooZy9eldrvc"
      },
      "execution_count": 36,
      "outputs": []
    },
    {
      "cell_type": "code",
      "source": [
        "from google.colab import drive\n",
        "drive.mount('/content/drive')"
      ],
      "metadata": {
        "colab": {
          "base_uri": "https://localhost:8080/"
        },
        "id": "Xu6PdxdTW1_w",
        "outputId": "933d4f5c-0d1a-4a14-d601-243a43a0cec3"
      },
      "execution_count": 4,
      "outputs": [
        {
          "output_type": "stream",
          "name": "stdout",
          "text": [
            "Mounted at /content/drive\n"
          ]
        }
      ]
    },
    {
      "cell_type": "code",
      "source": [
        "pd.set_option('display.max_rows', None)\n",
        "pd.set_option('display.max_columns', None)"
      ],
      "metadata": {
        "id": "dw2ceIwKW3_5"
      },
      "execution_count": 5,
      "outputs": []
    },
    {
      "cell_type": "code",
      "source": [
        "player = pd.read_csv(\"/content/drive/MyDrive/2024 컨퍼/player_data.csv\")"
      ],
      "metadata": {
        "id": "ftsTUrmEW5xq"
      },
      "execution_count": 17,
      "outputs": []
    },
    {
      "cell_type": "code",
      "source": [
        "player.head()"
      ],
      "metadata": {
        "colab": {
          "base_uri": "https://localhost:8080/",
          "height": 486
        },
        "id": "kyUJXdFRcTnK",
        "outputId": "f94aca23-563c-4538-9d58-01a9944e834f"
      },
      "execution_count": 14,
      "outputs": [
        {
          "output_type": "execute_result",
          "data": {
            "text/plain": [
              "                               match_id     map_name game_mode  \\\n",
              "0  02c7c736-e103-4c2c-a8e7-ea4c967c379d  Savage_Main     squad   \n",
              "1  02c7c736-e103-4c2c-a8e7-ea4c967c379d  Savage_Main     squad   \n",
              "2  02c7c736-e103-4c2c-a8e7-ea4c967c379d  Savage_Main     squad   \n",
              "3  02c7c736-e103-4c2c-a8e7-ea4c967c379d  Savage_Main     squad   \n",
              "4  02c7c736-e103-4c2c-a8e7-ea4c967c379d  Savage_Main     squad   \n",
              "\n",
              "                              player_id     player_name  \\\n",
              "0  2727aabd-287a-41dc-adce-04148d7cdafc         seulO_O   \n",
              "1  4f3cd113-9a48-43c3-82f3-f9045cfb21a8       H_O_L_I_C   \n",
              "2  fbd5d5b1-e3e8-49c3-8e5f-8b03a607ca56        ZER0_100   \n",
              "3  e87810c3-6195-49ca-995a-672b13a23826  Anthony-Davis2   \n",
              "4  e766fb44-d306-43f0-9983-3bc6acb92a29         ksj2837   \n",
              "\n",
              "                          player_account_id           primary_weapon  \\\n",
              "0  account.ae62cf516f08404ab2a7f13130efa57a       Item_Weapon_MP5K_C   \n",
              "1  account.fd5033f4029d496b8c672108f191efb3   Item_Weapon_Thompson_C   \n",
              "2  account.73ab78e3325d4cfbb9f2101683736830      Item_Weapon_ACE32_C   \n",
              "3  account.dc5cce3eacc74887b2640825394a4cfc      Item_Weapon_HK416_C   \n",
              "4  account.20dc2e5c10d7426fbd8f24dbb948cb4c  Item_Weapon_BerylM762_C   \n",
              "\n",
              "           secondary_weapon  armor_type  use_of_health_items  \\\n",
              "0         Item_Weapon_Pan_C         NaN                    0   \n",
              "1        Item_Weapon_MP5K_C         NaN                    0   \n",
              "2  Item_Weapon_Winchester_C         NaN                    0   \n",
              "3                       NaN         NaN                    0   \n",
              "4         Item_Weapon_M79_C         NaN                    0   \n",
              "\n",
              "   use_of_boost_items                                      items_carried  \\\n",
              "0                   0  Item_Back_B_01_StartParachutePack_C, Item_Heal...   \n",
              "1                   0  Item_Back_B_01_StartParachutePack_C, Item_Ammo...   \n",
              "2                   0  Item_Back_B_01_StartParachutePack_C, Item_Weap...   \n",
              "3                   0  Item_Back_B_01_StartParachutePack_C, Item_Weap...   \n",
              "4                   0  Item_Back_B_01_StartParachutePack_C, Item_Back...   \n",
              "\n",
              "   time_spent_looting_sec  time_spent_in_combat_sec  kills  damage_dealt  \\\n",
              "0                1158.429                    15.100      0     62.616158   \n",
              "1                 236.786                     2.612      0      0.000000   \n",
              "2                 187.917                   245.581      0    100.000010   \n",
              "3                  72.506                     5.302      1    122.800000   \n",
              "4                 761.401                  1426.494      2    299.073330   \n",
              "\n",
              "                                     movement_routes  first_location_x  \\\n",
              "0  (116174.3125,164796.140625,15883.021484375) ->...     116174.312500   \n",
              "1  (116750,164678.5,15888.599609375) -> (116750,1...     116750.000000   \n",
              "2  (251288.671875,137562.703125,3846.568603515625...     251288.671875   \n",
              "3  (115997.703125,164408.40625,15888.599609375) -...     115997.703125   \n",
              "4  (115515.4296875,164927.125,15878.927734375) ->...     115515.429688   \n",
              "\n",
              "   first_location_y  first_location_z  final_location_x  final_location_y  \\\n",
              "0     164796.140625      15883.021484     193899.578125     189967.656250   \n",
              "1     164678.500000      15888.599609     341549.625000     157000.656250   \n",
              "2     137562.703125       3846.568604     241000.921875     345338.250000   \n",
              "3     164408.406250      15888.599609     194661.078125     197629.046875   \n",
              "4     164927.125000      15878.927734     189028.125000     178672.000000   \n",
              "\n",
              "   final_location_z  walk_distance  swim_distance  ride_distance  road_kills  \\\n",
              "0       1023.330017    2989.499000            0.0            0.0           0   \n",
              "1        734.809998     223.724430            0.0            0.0           0   \n",
              "2       1709.209961     120.128624            0.0            0.0           0   \n",
              "3       1016.320007      27.147842            0.0            0.0           0   \n",
              "4        638.890015    3896.207800            0.0            0.0           0   \n",
              "\n",
              "   vehicle_destroys  weapons_acquired  boosts  heals  kill_streaks  \\\n",
              "0                 0                 6       5      1             0   \n",
              "1                 0                 5       0      0             0   \n",
              "2                 0                 4       0      0             0   \n",
              "3                 0                 1       0      0             1   \n",
              "4                 0                13       5      1             1   \n",
              "\n",
              "   headshot_kills  assists  revives  team_kills  win_place  team_id  \\\n",
              "0               0        1        0           0          4     10.0   \n",
              "1               0        0        0           0         17     26.0   \n",
              "2               0        0        0           0         21      7.0   \n",
              "3               1        0        0           0         23      5.0   \n",
              "4               0        4        1           0          1      6.0   \n",
              "\n",
              "   team_rank  team_won  elapsedTime  numAlivePlayers  \n",
              "0        4.0     False          0.0             80.0  \n",
              "1       17.0     False          0.0             95.0  \n",
              "2       21.0     False          0.0             78.0  \n",
              "3       23.0     False          0.0             82.0  \n",
              "4        1.0      True          0.0             82.0  "
            ],
            "text/html": [
              "\n",
              "  <div id=\"df-7b4cd918-1821-46dc-af98-8ab011d15484\" class=\"colab-df-container\">\n",
              "    <div>\n",
              "<style scoped>\n",
              "    .dataframe tbody tr th:only-of-type {\n",
              "        vertical-align: middle;\n",
              "    }\n",
              "\n",
              "    .dataframe tbody tr th {\n",
              "        vertical-align: top;\n",
              "    }\n",
              "\n",
              "    .dataframe thead th {\n",
              "        text-align: right;\n",
              "    }\n",
              "</style>\n",
              "<table border=\"1\" class=\"dataframe\">\n",
              "  <thead>\n",
              "    <tr style=\"text-align: right;\">\n",
              "      <th></th>\n",
              "      <th>match_id</th>\n",
              "      <th>map_name</th>\n",
              "      <th>game_mode</th>\n",
              "      <th>player_id</th>\n",
              "      <th>player_name</th>\n",
              "      <th>player_account_id</th>\n",
              "      <th>primary_weapon</th>\n",
              "      <th>secondary_weapon</th>\n",
              "      <th>armor_type</th>\n",
              "      <th>use_of_health_items</th>\n",
              "      <th>use_of_boost_items</th>\n",
              "      <th>items_carried</th>\n",
              "      <th>time_spent_looting_sec</th>\n",
              "      <th>time_spent_in_combat_sec</th>\n",
              "      <th>kills</th>\n",
              "      <th>damage_dealt</th>\n",
              "      <th>movement_routes</th>\n",
              "      <th>first_location_x</th>\n",
              "      <th>first_location_y</th>\n",
              "      <th>first_location_z</th>\n",
              "      <th>final_location_x</th>\n",
              "      <th>final_location_y</th>\n",
              "      <th>final_location_z</th>\n",
              "      <th>walk_distance</th>\n",
              "      <th>swim_distance</th>\n",
              "      <th>ride_distance</th>\n",
              "      <th>road_kills</th>\n",
              "      <th>vehicle_destroys</th>\n",
              "      <th>weapons_acquired</th>\n",
              "      <th>boosts</th>\n",
              "      <th>heals</th>\n",
              "      <th>kill_streaks</th>\n",
              "      <th>headshot_kills</th>\n",
              "      <th>assists</th>\n",
              "      <th>revives</th>\n",
              "      <th>team_kills</th>\n",
              "      <th>win_place</th>\n",
              "      <th>team_id</th>\n",
              "      <th>team_rank</th>\n",
              "      <th>team_won</th>\n",
              "      <th>elapsedTime</th>\n",
              "      <th>numAlivePlayers</th>\n",
              "    </tr>\n",
              "  </thead>\n",
              "  <tbody>\n",
              "    <tr>\n",
              "      <th>0</th>\n",
              "      <td>02c7c736-e103-4c2c-a8e7-ea4c967c379d</td>\n",
              "      <td>Savage_Main</td>\n",
              "      <td>squad</td>\n",
              "      <td>2727aabd-287a-41dc-adce-04148d7cdafc</td>\n",
              "      <td>seulO_O</td>\n",
              "      <td>account.ae62cf516f08404ab2a7f13130efa57a</td>\n",
              "      <td>Item_Weapon_MP5K_C</td>\n",
              "      <td>Item_Weapon_Pan_C</td>\n",
              "      <td>NaN</td>\n",
              "      <td>0</td>\n",
              "      <td>0</td>\n",
              "      <td>Item_Back_B_01_StartParachutePack_C, Item_Heal...</td>\n",
              "      <td>1158.429</td>\n",
              "      <td>15.100</td>\n",
              "      <td>0</td>\n",
              "      <td>62.616158</td>\n",
              "      <td>(116174.3125,164796.140625,15883.021484375) -&gt;...</td>\n",
              "      <td>116174.312500</td>\n",
              "      <td>164796.140625</td>\n",
              "      <td>15883.021484</td>\n",
              "      <td>193899.578125</td>\n",
              "      <td>189967.656250</td>\n",
              "      <td>1023.330017</td>\n",
              "      <td>2989.499000</td>\n",
              "      <td>0.0</td>\n",
              "      <td>0.0</td>\n",
              "      <td>0</td>\n",
              "      <td>0</td>\n",
              "      <td>6</td>\n",
              "      <td>5</td>\n",
              "      <td>1</td>\n",
              "      <td>0</td>\n",
              "      <td>0</td>\n",
              "      <td>1</td>\n",
              "      <td>0</td>\n",
              "      <td>0</td>\n",
              "      <td>4</td>\n",
              "      <td>10.0</td>\n",
              "      <td>4.0</td>\n",
              "      <td>False</td>\n",
              "      <td>0.0</td>\n",
              "      <td>80.0</td>\n",
              "    </tr>\n",
              "    <tr>\n",
              "      <th>1</th>\n",
              "      <td>02c7c736-e103-4c2c-a8e7-ea4c967c379d</td>\n",
              "      <td>Savage_Main</td>\n",
              "      <td>squad</td>\n",
              "      <td>4f3cd113-9a48-43c3-82f3-f9045cfb21a8</td>\n",
              "      <td>H_O_L_I_C</td>\n",
              "      <td>account.fd5033f4029d496b8c672108f191efb3</td>\n",
              "      <td>Item_Weapon_Thompson_C</td>\n",
              "      <td>Item_Weapon_MP5K_C</td>\n",
              "      <td>NaN</td>\n",
              "      <td>0</td>\n",
              "      <td>0</td>\n",
              "      <td>Item_Back_B_01_StartParachutePack_C, Item_Ammo...</td>\n",
              "      <td>236.786</td>\n",
              "      <td>2.612</td>\n",
              "      <td>0</td>\n",
              "      <td>0.000000</td>\n",
              "      <td>(116750,164678.5,15888.599609375) -&gt; (116750,1...</td>\n",
              "      <td>116750.000000</td>\n",
              "      <td>164678.500000</td>\n",
              "      <td>15888.599609</td>\n",
              "      <td>341549.625000</td>\n",
              "      <td>157000.656250</td>\n",
              "      <td>734.809998</td>\n",
              "      <td>223.724430</td>\n",
              "      <td>0.0</td>\n",
              "      <td>0.0</td>\n",
              "      <td>0</td>\n",
              "      <td>0</td>\n",
              "      <td>5</td>\n",
              "      <td>0</td>\n",
              "      <td>0</td>\n",
              "      <td>0</td>\n",
              "      <td>0</td>\n",
              "      <td>0</td>\n",
              "      <td>0</td>\n",
              "      <td>0</td>\n",
              "      <td>17</td>\n",
              "      <td>26.0</td>\n",
              "      <td>17.0</td>\n",
              "      <td>False</td>\n",
              "      <td>0.0</td>\n",
              "      <td>95.0</td>\n",
              "    </tr>\n",
              "    <tr>\n",
              "      <th>2</th>\n",
              "      <td>02c7c736-e103-4c2c-a8e7-ea4c967c379d</td>\n",
              "      <td>Savage_Main</td>\n",
              "      <td>squad</td>\n",
              "      <td>fbd5d5b1-e3e8-49c3-8e5f-8b03a607ca56</td>\n",
              "      <td>ZER0_100</td>\n",
              "      <td>account.73ab78e3325d4cfbb9f2101683736830</td>\n",
              "      <td>Item_Weapon_ACE32_C</td>\n",
              "      <td>Item_Weapon_Winchester_C</td>\n",
              "      <td>NaN</td>\n",
              "      <td>0</td>\n",
              "      <td>0</td>\n",
              "      <td>Item_Back_B_01_StartParachutePack_C, Item_Weap...</td>\n",
              "      <td>187.917</td>\n",
              "      <td>245.581</td>\n",
              "      <td>0</td>\n",
              "      <td>100.000010</td>\n",
              "      <td>(251288.671875,137562.703125,3846.568603515625...</td>\n",
              "      <td>251288.671875</td>\n",
              "      <td>137562.703125</td>\n",
              "      <td>3846.568604</td>\n",
              "      <td>241000.921875</td>\n",
              "      <td>345338.250000</td>\n",
              "      <td>1709.209961</td>\n",
              "      <td>120.128624</td>\n",
              "      <td>0.0</td>\n",
              "      <td>0.0</td>\n",
              "      <td>0</td>\n",
              "      <td>0</td>\n",
              "      <td>4</td>\n",
              "      <td>0</td>\n",
              "      <td>0</td>\n",
              "      <td>0</td>\n",
              "      <td>0</td>\n",
              "      <td>0</td>\n",
              "      <td>0</td>\n",
              "      <td>0</td>\n",
              "      <td>21</td>\n",
              "      <td>7.0</td>\n",
              "      <td>21.0</td>\n",
              "      <td>False</td>\n",
              "      <td>0.0</td>\n",
              "      <td>78.0</td>\n",
              "    </tr>\n",
              "    <tr>\n",
              "      <th>3</th>\n",
              "      <td>02c7c736-e103-4c2c-a8e7-ea4c967c379d</td>\n",
              "      <td>Savage_Main</td>\n",
              "      <td>squad</td>\n",
              "      <td>e87810c3-6195-49ca-995a-672b13a23826</td>\n",
              "      <td>Anthony-Davis2</td>\n",
              "      <td>account.dc5cce3eacc74887b2640825394a4cfc</td>\n",
              "      <td>Item_Weapon_HK416_C</td>\n",
              "      <td>NaN</td>\n",
              "      <td>NaN</td>\n",
              "      <td>0</td>\n",
              "      <td>0</td>\n",
              "      <td>Item_Back_B_01_StartParachutePack_C, Item_Weap...</td>\n",
              "      <td>72.506</td>\n",
              "      <td>5.302</td>\n",
              "      <td>1</td>\n",
              "      <td>122.800000</td>\n",
              "      <td>(115997.703125,164408.40625,15888.599609375) -...</td>\n",
              "      <td>115997.703125</td>\n",
              "      <td>164408.406250</td>\n",
              "      <td>15888.599609</td>\n",
              "      <td>194661.078125</td>\n",
              "      <td>197629.046875</td>\n",
              "      <td>1016.320007</td>\n",
              "      <td>27.147842</td>\n",
              "      <td>0.0</td>\n",
              "      <td>0.0</td>\n",
              "      <td>0</td>\n",
              "      <td>0</td>\n",
              "      <td>1</td>\n",
              "      <td>0</td>\n",
              "      <td>0</td>\n",
              "      <td>1</td>\n",
              "      <td>1</td>\n",
              "      <td>0</td>\n",
              "      <td>0</td>\n",
              "      <td>0</td>\n",
              "      <td>23</td>\n",
              "      <td>5.0</td>\n",
              "      <td>23.0</td>\n",
              "      <td>False</td>\n",
              "      <td>0.0</td>\n",
              "      <td>82.0</td>\n",
              "    </tr>\n",
              "    <tr>\n",
              "      <th>4</th>\n",
              "      <td>02c7c736-e103-4c2c-a8e7-ea4c967c379d</td>\n",
              "      <td>Savage_Main</td>\n",
              "      <td>squad</td>\n",
              "      <td>e766fb44-d306-43f0-9983-3bc6acb92a29</td>\n",
              "      <td>ksj2837</td>\n",
              "      <td>account.20dc2e5c10d7426fbd8f24dbb948cb4c</td>\n",
              "      <td>Item_Weapon_BerylM762_C</td>\n",
              "      <td>Item_Weapon_M79_C</td>\n",
              "      <td>NaN</td>\n",
              "      <td>0</td>\n",
              "      <td>0</td>\n",
              "      <td>Item_Back_B_01_StartParachutePack_C, Item_Back...</td>\n",
              "      <td>761.401</td>\n",
              "      <td>1426.494</td>\n",
              "      <td>2</td>\n",
              "      <td>299.073330</td>\n",
              "      <td>(115515.4296875,164927.125,15878.927734375) -&gt;...</td>\n",
              "      <td>115515.429688</td>\n",
              "      <td>164927.125000</td>\n",
              "      <td>15878.927734</td>\n",
              "      <td>189028.125000</td>\n",
              "      <td>178672.000000</td>\n",
              "      <td>638.890015</td>\n",
              "      <td>3896.207800</td>\n",
              "      <td>0.0</td>\n",
              "      <td>0.0</td>\n",
              "      <td>0</td>\n",
              "      <td>0</td>\n",
              "      <td>13</td>\n",
              "      <td>5</td>\n",
              "      <td>1</td>\n",
              "      <td>1</td>\n",
              "      <td>0</td>\n",
              "      <td>4</td>\n",
              "      <td>1</td>\n",
              "      <td>0</td>\n",
              "      <td>1</td>\n",
              "      <td>6.0</td>\n",
              "      <td>1.0</td>\n",
              "      <td>True</td>\n",
              "      <td>0.0</td>\n",
              "      <td>82.0</td>\n",
              "    </tr>\n",
              "  </tbody>\n",
              "</table>\n",
              "</div>\n",
              "    <div class=\"colab-df-buttons\">\n",
              "\n",
              "  <div class=\"colab-df-container\">\n",
              "    <button class=\"colab-df-convert\" onclick=\"convertToInteractive('df-7b4cd918-1821-46dc-af98-8ab011d15484')\"\n",
              "            title=\"Convert this dataframe to an interactive table.\"\n",
              "            style=\"display:none;\">\n",
              "\n",
              "  <svg xmlns=\"http://www.w3.org/2000/svg\" height=\"24px\" viewBox=\"0 -960 960 960\">\n",
              "    <path d=\"M120-120v-720h720v720H120Zm60-500h600v-160H180v160Zm220 220h160v-160H400v160Zm0 220h160v-160H400v160ZM180-400h160v-160H180v160Zm440 0h160v-160H620v160ZM180-180h160v-160H180v160Zm440 0h160v-160H620v160Z\"/>\n",
              "  </svg>\n",
              "    </button>\n",
              "\n",
              "  <style>\n",
              "    .colab-df-container {\n",
              "      display:flex;\n",
              "      gap: 12px;\n",
              "    }\n",
              "\n",
              "    .colab-df-convert {\n",
              "      background-color: #E8F0FE;\n",
              "      border: none;\n",
              "      border-radius: 50%;\n",
              "      cursor: pointer;\n",
              "      display: none;\n",
              "      fill: #1967D2;\n",
              "      height: 32px;\n",
              "      padding: 0 0 0 0;\n",
              "      width: 32px;\n",
              "    }\n",
              "\n",
              "    .colab-df-convert:hover {\n",
              "      background-color: #E2EBFA;\n",
              "      box-shadow: 0px 1px 2px rgba(60, 64, 67, 0.3), 0px 1px 3px 1px rgba(60, 64, 67, 0.15);\n",
              "      fill: #174EA6;\n",
              "    }\n",
              "\n",
              "    .colab-df-buttons div {\n",
              "      margin-bottom: 4px;\n",
              "    }\n",
              "\n",
              "    [theme=dark] .colab-df-convert {\n",
              "      background-color: #3B4455;\n",
              "      fill: #D2E3FC;\n",
              "    }\n",
              "\n",
              "    [theme=dark] .colab-df-convert:hover {\n",
              "      background-color: #434B5C;\n",
              "      box-shadow: 0px 1px 3px 1px rgba(0, 0, 0, 0.15);\n",
              "      filter: drop-shadow(0px 1px 2px rgba(0, 0, 0, 0.3));\n",
              "      fill: #FFFFFF;\n",
              "    }\n",
              "  </style>\n",
              "\n",
              "    <script>\n",
              "      const buttonEl =\n",
              "        document.querySelector('#df-7b4cd918-1821-46dc-af98-8ab011d15484 button.colab-df-convert');\n",
              "      buttonEl.style.display =\n",
              "        google.colab.kernel.accessAllowed ? 'block' : 'none';\n",
              "\n",
              "      async function convertToInteractive(key) {\n",
              "        const element = document.querySelector('#df-7b4cd918-1821-46dc-af98-8ab011d15484');\n",
              "        const dataTable =\n",
              "          await google.colab.kernel.invokeFunction('convertToInteractive',\n",
              "                                                    [key], {});\n",
              "        if (!dataTable) return;\n",
              "\n",
              "        const docLinkHtml = 'Like what you see? Visit the ' +\n",
              "          '<a target=\"_blank\" href=https://colab.research.google.com/notebooks/data_table.ipynb>data table notebook</a>'\n",
              "          + ' to learn more about interactive tables.';\n",
              "        element.innerHTML = '';\n",
              "        dataTable['output_type'] = 'display_data';\n",
              "        await google.colab.output.renderOutput(dataTable, element);\n",
              "        const docLink = document.createElement('div');\n",
              "        docLink.innerHTML = docLinkHtml;\n",
              "        element.appendChild(docLink);\n",
              "      }\n",
              "    </script>\n",
              "  </div>\n",
              "\n",
              "\n",
              "<div id=\"df-0703faad-735e-437e-84dd-707409cb1446\">\n",
              "  <button class=\"colab-df-quickchart\" onclick=\"quickchart('df-0703faad-735e-437e-84dd-707409cb1446')\"\n",
              "            title=\"Suggest charts\"\n",
              "            style=\"display:none;\">\n",
              "\n",
              "<svg xmlns=\"http://www.w3.org/2000/svg\" height=\"24px\"viewBox=\"0 0 24 24\"\n",
              "     width=\"24px\">\n",
              "    <g>\n",
              "        <path d=\"M19 3H5c-1.1 0-2 .9-2 2v14c0 1.1.9 2 2 2h14c1.1 0 2-.9 2-2V5c0-1.1-.9-2-2-2zM9 17H7v-7h2v7zm4 0h-2V7h2v10zm4 0h-2v-4h2v4z\"/>\n",
              "    </g>\n",
              "</svg>\n",
              "  </button>\n",
              "\n",
              "<style>\n",
              "  .colab-df-quickchart {\n",
              "      --bg-color: #E8F0FE;\n",
              "      --fill-color: #1967D2;\n",
              "      --hover-bg-color: #E2EBFA;\n",
              "      --hover-fill-color: #174EA6;\n",
              "      --disabled-fill-color: #AAA;\n",
              "      --disabled-bg-color: #DDD;\n",
              "  }\n",
              "\n",
              "  [theme=dark] .colab-df-quickchart {\n",
              "      --bg-color: #3B4455;\n",
              "      --fill-color: #D2E3FC;\n",
              "      --hover-bg-color: #434B5C;\n",
              "      --hover-fill-color: #FFFFFF;\n",
              "      --disabled-bg-color: #3B4455;\n",
              "      --disabled-fill-color: #666;\n",
              "  }\n",
              "\n",
              "  .colab-df-quickchart {\n",
              "    background-color: var(--bg-color);\n",
              "    border: none;\n",
              "    border-radius: 50%;\n",
              "    cursor: pointer;\n",
              "    display: none;\n",
              "    fill: var(--fill-color);\n",
              "    height: 32px;\n",
              "    padding: 0;\n",
              "    width: 32px;\n",
              "  }\n",
              "\n",
              "  .colab-df-quickchart:hover {\n",
              "    background-color: var(--hover-bg-color);\n",
              "    box-shadow: 0 1px 2px rgba(60, 64, 67, 0.3), 0 1px 3px 1px rgba(60, 64, 67, 0.15);\n",
              "    fill: var(--button-hover-fill-color);\n",
              "  }\n",
              "\n",
              "  .colab-df-quickchart-complete:disabled,\n",
              "  .colab-df-quickchart-complete:disabled:hover {\n",
              "    background-color: var(--disabled-bg-color);\n",
              "    fill: var(--disabled-fill-color);\n",
              "    box-shadow: none;\n",
              "  }\n",
              "\n",
              "  .colab-df-spinner {\n",
              "    border: 2px solid var(--fill-color);\n",
              "    border-color: transparent;\n",
              "    border-bottom-color: var(--fill-color);\n",
              "    animation:\n",
              "      spin 1s steps(1) infinite;\n",
              "  }\n",
              "\n",
              "  @keyframes spin {\n",
              "    0% {\n",
              "      border-color: transparent;\n",
              "      border-bottom-color: var(--fill-color);\n",
              "      border-left-color: var(--fill-color);\n",
              "    }\n",
              "    20% {\n",
              "      border-color: transparent;\n",
              "      border-left-color: var(--fill-color);\n",
              "      border-top-color: var(--fill-color);\n",
              "    }\n",
              "    30% {\n",
              "      border-color: transparent;\n",
              "      border-left-color: var(--fill-color);\n",
              "      border-top-color: var(--fill-color);\n",
              "      border-right-color: var(--fill-color);\n",
              "    }\n",
              "    40% {\n",
              "      border-color: transparent;\n",
              "      border-right-color: var(--fill-color);\n",
              "      border-top-color: var(--fill-color);\n",
              "    }\n",
              "    60% {\n",
              "      border-color: transparent;\n",
              "      border-right-color: var(--fill-color);\n",
              "    }\n",
              "    80% {\n",
              "      border-color: transparent;\n",
              "      border-right-color: var(--fill-color);\n",
              "      border-bottom-color: var(--fill-color);\n",
              "    }\n",
              "    90% {\n",
              "      border-color: transparent;\n",
              "      border-bottom-color: var(--fill-color);\n",
              "    }\n",
              "  }\n",
              "</style>\n",
              "\n",
              "  <script>\n",
              "    async function quickchart(key) {\n",
              "      const quickchartButtonEl =\n",
              "        document.querySelector('#' + key + ' button');\n",
              "      quickchartButtonEl.disabled = true;  // To prevent multiple clicks.\n",
              "      quickchartButtonEl.classList.add('colab-df-spinner');\n",
              "      try {\n",
              "        const charts = await google.colab.kernel.invokeFunction(\n",
              "            'suggestCharts', [key], {});\n",
              "      } catch (error) {\n",
              "        console.error('Error during call to suggestCharts:', error);\n",
              "      }\n",
              "      quickchartButtonEl.classList.remove('colab-df-spinner');\n",
              "      quickchartButtonEl.classList.add('colab-df-quickchart-complete');\n",
              "    }\n",
              "    (() => {\n",
              "      let quickchartButtonEl =\n",
              "        document.querySelector('#df-0703faad-735e-437e-84dd-707409cb1446 button');\n",
              "      quickchartButtonEl.style.display =\n",
              "        google.colab.kernel.accessAllowed ? 'block' : 'none';\n",
              "    })();\n",
              "  </script>\n",
              "</div>\n",
              "\n",
              "    </div>\n",
              "  </div>\n"
            ],
            "application/vnd.google.colaboratory.intrinsic+json": {
              "type": "dataframe",
              "variable_name": "player"
            }
          },
          "metadata": {},
          "execution_count": 14
        }
      ]
    },
    {
      "cell_type": "markdown",
      "source": [
        "전처리"
      ],
      "metadata": {
        "id": "AWE09MshW6Jb"
      }
    },
    {
      "cell_type": "code",
      "source": [
        "def preprocess_player_data(df):\n",
        "\n",
        "    # 스쿼드 모드만 추출\n",
        "    df = df[df['game_mode'] == 'squad']\n",
        "\n",
        "    df = df[['match_id', 'player_id', 'player_account_id', 'team_rank','assists', 'revives', 'first_location_x','first_location_y', 'first_location_z', 'movement_routes']]\n",
        "\n",
        "    # 중복 플레이어 제거\n",
        "    df = df[df.duplicated(subset=['player_id', 'match_id'], keep=False) == False]\n",
        "\n",
        "    # team_id 생성: match_id와 team_rank 결합\n",
        "    df['team_id'] = df['match_id'].astype(str) + \"_\" + df['team_rank'].astype(str)\n",
        "\n",
        "    # team_id가 같은 데이터들의 개수 확인\n",
        "    team_id_counts = df.groupby('team_id').size().reset_index(name='count')\n",
        "\n",
        "    # 각 고유 값이 몇 개씩 존재하는지 확인\n",
        "    unique_value_counts = team_id_counts['count'].value_counts()\n",
        "\n",
        "    # count 열이 4인 행의 team_id 값을 리스트로 가져오기\n",
        "    id_values = team_id_counts.loc[team_id_counts['count'] == 4, 'team_id'].tolist()\n",
        "\n",
        "    # team_id가 id_values에 속하는 행만 추출 (한 팀에 4명인 경우만 추출)\n",
        "    df = df[df['team_id'].isin(id_values)]\n",
        "\n",
        "    # 결측치 삭제\n",
        "    df = df.dropna()\n",
        "\n",
        "    return df"
      ],
      "metadata": {
        "id": "CyZzhudgW6yS"
      },
      "execution_count": 18,
      "outputs": []
    },
    {
      "cell_type": "code",
      "source": [
        "player = preprocess_player_data(player)\n",
        "print(player.shape)"
      ],
      "metadata": {
        "colab": {
          "base_uri": "https://localhost:8080/"
        },
        "id": "p0bnHmyCbc50",
        "outputId": "5cd2b6c8-8930-471b-aaf4-79d246528f5c"
      },
      "execution_count": 19,
      "outputs": [
        {
          "output_type": "stream",
          "name": "stdout",
          "text": [
            "(79248, 11)\n"
          ]
        }
      ]
    },
    {
      "cell_type": "markdown",
      "source": [
        "파생변수"
      ],
      "metadata": {
        "id": "eTe7nOuYX6u9"
      }
    },
    {
      "cell_type": "code",
      "source": [
        "def create_derived_features(df):\n",
        "\n",
        "    # 팀 평균 위치 계산\n",
        "    df['team_avg_x'] = df.groupby('team_id')['first_location_x'].transform('mean')\n",
        "    df['team_avg_y'] = df.groupby('team_id')['first_location_y'].transform('mean')\n",
        "    df['team_avg_z'] = df.groupby('team_id')['first_location_z'].transform('mean')\n",
        "\n",
        "    # 팀 평균 위치와 개별 플레이어 위치 간 거리 계산\n",
        "    df['first_location_to_team'] = np.sqrt(\n",
        "        (df['first_location_x'] - df['team_avg_x'])**2 +\n",
        "        (df['first_location_y'] - df['team_avg_y'])**2 +\n",
        "        (df['first_location_z'] - df['team_avg_z'])**2\n",
        "    )\n",
        "\n",
        "    # 1. movement_routes 열에서 X, Y, Z 값 추출\n",
        "    def extract_coordinates(movement_route):\n",
        "        # 좌표 패턴을 찾기 위해 정규식을 사용\n",
        "        pattern = r'\\(([-\\d\\.]+),\\s*([-\\d\\.]+),\\s*([-\\d\\.]+)\\)'\n",
        "\n",
        "        # 정규식으로 X, Y, Z 좌표 리스트 추출\n",
        "        coordinates = re.findall(pattern, movement_route)\n",
        "\n",
        "        # 각 좌표를 X, Y, Z 리스트로 변환\n",
        "        x_coords = [float(x) for x, _, _ in coordinates]\n",
        "        y_coords = [float(y) for _, y, _ in coordinates]\n",
        "        z_coords = [float(z) for _, _, z in coordinates]\n",
        "\n",
        "        return x_coords, y_coords, z_coords\n",
        "\n",
        "    # X, Y, Z 좌표 추출하여 새로운 열로 저장\n",
        "    df[['x_coords', 'y_coords', 'z_coords']] = df['movement_routes'].apply(lambda route: pd.Series(extract_coordinates(route)))\n",
        "\n",
        "    # 거리 계산 함수: 두 좌표 간의 유클리드 거리\n",
        "    def euclidean_distance(player_pos, team_mean_pos):\n",
        "        return np.sqrt(np.sum((player_pos - team_mean_pos) ** 2))\n",
        "\n",
        "    # 각 팀별 거리 계산 함수\n",
        "    def calculate_team_distances(team_df):\n",
        "        # 팀원 중 가장 짧은 리스트 길이 구하기\n",
        "        min_length = team_df['x_coords'].apply(len).min()\n",
        "\n",
        "        # 팀 평균 위치 계산\n",
        "        team_mean_positions = []\n",
        "        for i in range(min_length):\n",
        "            mean_x = np.mean([x[i] for x in team_df['x_coords']])\n",
        "            mean_y = np.mean([y[i] for y in team_df['y_coords']])\n",
        "            mean_z = np.mean([z[i] for z in team_df['z_coords']])\n",
        "            team_mean_positions.append([mean_x, mean_y, mean_z])\n",
        "        team_mean_positions = np.array(team_mean_positions)\n",
        "\n",
        "        # 각 플레이어와 팀 평균 위치 간 거리 계산\n",
        "        distances = []\n",
        "        for _, row in team_df.iterrows():\n",
        "            player_positions = np.array([[row['x_coords'][i], row['y_coords'][i], row['z_coords'][i]] for i in range(min_length)])\n",
        "            distance = np.mean([euclidean_distance(player_pos, team_mean_positions[i]) for i, player_pos in enumerate(player_positions)]) / min_length\n",
        "            distances.append(distance)\n",
        "\n",
        "        return distances\n",
        "\n",
        "    # 팀별 거리 계산 및 결과 추가\n",
        "    def calculate_distances_with_group(df):\n",
        "        distances = calculate_team_distances(df)\n",
        "        df['location_to_team'] = distances  # 계산된 거리를 열로 추가\n",
        "        return df\n",
        "\n",
        "    # 그룹별로 거리 계산 수행\n",
        "    df = df.groupby('team_id', group_keys=False).apply(calculate_distances_with_group)\n",
        "\n",
        "    return df"
      ],
      "metadata": {
        "id": "Nn25OnfpX7Tt"
      },
      "execution_count": 24,
      "outputs": []
    },
    {
      "cell_type": "code",
      "source": [
        "player = create_derived_features(player)\n",
        "print(player.shape)"
      ],
      "metadata": {
        "colab": {
          "base_uri": "https://localhost:8080/"
        },
        "id": "E6NcfeyreZgs",
        "outputId": "4ea2e59a-7dbe-42e6-e6f7-186792b8eb24"
      },
      "execution_count": 25,
      "outputs": [
        {
          "output_type": "stream",
          "name": "stdout",
          "text": [
            "(79248, 19)\n"
          ]
        }
      ]
    },
    {
      "cell_type": "markdown",
      "source": [
        "스케일링"
      ],
      "metadata": {
        "id": "8iNOKHhDX-B5"
      }
    },
    {
      "cell_type": "code",
      "source": [
        "def scale_features(df, columns):\n",
        "\n",
        "    # 로그 변환\n",
        "    for col in columns:\n",
        "        df[col] = np.log1p(df[col])  # log(1 + x) 변환\n",
        "\n",
        "    # MinMax Scaling 적용\n",
        "    scaler = MinMaxScaler()\n",
        "    df[columns] = scaler.fit_transform(df[columns])\n",
        "\n",
        "    return df\n"
      ],
      "metadata": {
        "id": "4mFg0XokX9U4"
      },
      "execution_count": 27,
      "outputs": []
    },
    {
      "cell_type": "code",
      "source": [
        "selected_columns = ['assists', 'revives', 'first_location_to_team', 'location_to_team']\n",
        "player = scale_features(player, selected_columns)"
      ],
      "metadata": {
        "id": "0-B7w9E9fepr"
      },
      "execution_count": 28,
      "outputs": []
    },
    {
      "cell_type": "markdown",
      "source": [
        "라벨링"
      ],
      "metadata": {
        "id": "XLXIXmZZZRuY"
      }
    },
    {
      "cell_type": "code",
      "source": [
        "def apply_clustering(df, columns, kmeans_clusters=2, hdbscan_min_cluster_size=5000, hdbscan_min_samples=300):\n",
        "\n",
        "    # 변수 선택\n",
        "    X = df[columns]\n",
        "\n",
        "    # KMeans 클러스터링 수행\n",
        "    kmeans = KMeans(n_clusters=kmeans_clusters, random_state=42)\n",
        "    df['km_cluster'] = kmeans.fit_predict(X)\n",
        "\n",
        "    # HDBSCAN 클러스터링 수행\n",
        "    clusterer = hdbscan.HDBSCAN(min_cluster_size=hdbscan_min_cluster_size, min_samples=hdbscan_min_samples)\n",
        "    df['db_cluster'] = clusterer.fit_predict(X)\n",
        "\n",
        "    # HDBSCAN 클러스터링 결과 변환\n",
        "    # 1인 값은 임시 값 -2로 변경\n",
        "    df.loc[df['db_cluster'] == 1, 'db_cluster'] = -2\n",
        "\n",
        "    # 1이 아닌 값을 1(팀)으로 변경\n",
        "    df.loc[df['db_cluster'] != -2, 'db_cluster'] = 1\n",
        "\n",
        "    # 임시 값 -2을 0(개인)으로 변경\n",
        "    df.loc[df['db_cluster'] == -2, 'db_cluster'] = 0\n",
        "\n",
        "    # KMeans와 HDBSCAN 결과가 같은 데이터만 선택\n",
        "    df = df[df['db_cluster'] == df['km_cluster']]\n",
        "\n",
        "    return df\n"
      ],
      "metadata": {
        "id": "kd-9h7BxZLYF"
      },
      "execution_count": 29,
      "outputs": []
    },
    {
      "cell_type": "code",
      "source": [
        "player = apply_clustering(player, selected_columns)"
      ],
      "metadata": {
        "id": "wqAdstHZfr4V"
      },
      "execution_count": 30,
      "outputs": []
    },
    {
      "cell_type": "code",
      "source": [
        "print(player.shape)\n",
        "print(player[['db_cluster', 'km_cluster']].head())"
      ],
      "metadata": {
        "colab": {
          "base_uri": "https://localhost:8080/"
        },
        "id": "P7Ik0jCkf9PH",
        "outputId": "229a5179-1c37-456c-8c07-a8e278506bcc"
      },
      "execution_count": 33,
      "outputs": [
        {
          "output_type": "stream",
          "name": "stdout",
          "text": [
            "(69457, 21)\n",
            "   db_cluster  km_cluster\n",
            "1           0           0\n",
            "2           0           0\n",
            "3           0           0\n",
            "4           1           1\n",
            "5           1           1\n"
          ]
        }
      ]
    },
    {
      "cell_type": "markdown",
      "source": [
        "모델링"
      ],
      "metadata": {
        "id": "LKsAjNMgaLDO"
      }
    },
    {
      "cell_type": "code",
      "source": [
        "# X (입력 변수)와 y (타겟 변수) 분리\n",
        "X = player[selected_columns]\n",
        "y = player['db_cluster']\n",
        "\n",
        "# 데이터 나누기: 80% 학습용, 20% 테스트용\n",
        "X_train, X_test, y_train, y_test = train_test_split(X, y, test_size=0.2, random_state=42)\n",
        "\n",
        "# 선형 SVM 모델 생성 및 학습\n",
        "linear_svm = SVC(kernel='linear', random_state=42)\n",
        "linear_svm.fit(X_train, y_train)\n",
        "\n",
        "# 테스트 데이터 예측\n",
        "y_pred = linear_svm.predict(X_test)\n"
      ],
      "metadata": {
        "id": "rb3VHlXDaKH-"
      },
      "execution_count": 34,
      "outputs": []
    },
    {
      "cell_type": "code",
      "source": [
        "joblib.dump(linear_svm, 'group_model_svm.pkl')"
      ],
      "metadata": {
        "colab": {
          "base_uri": "https://localhost:8080/"
        },
        "id": "llgXwPydgpHq",
        "outputId": "59ed4b74-0d43-426d-fd76-e5d6ad18ea05"
      },
      "execution_count": 37,
      "outputs": [
        {
          "output_type": "execute_result",
          "data": {
            "text/plain": [
              "['group_model_svm.pkl']"
            ]
          },
          "metadata": {},
          "execution_count": 37
        }
      ]
    },
    {
      "cell_type": "markdown",
      "source": [
        "가설 검정 (맨-휘트니검정)"
      ],
      "metadata": {
        "id": "-Z_FjvlQbBq7"
      }
    },
    {
      "cell_type": "code",
      "source": [
        "X_test['y_pred'] = y_pred\n",
        "\n",
        "non_team = X_test[X_test['y_pred'] == 0]\n",
        "team = X_test[X_test['y_pred'] == 1]"
      ],
      "metadata": {
        "id": "81m7cA7UaEwi"
      },
      "execution_count": 35,
      "outputs": []
    },
    {
      "cell_type": "code",
      "source": [
        "# 'assists' 변수 추출\n",
        "assists_0 = non_team['assists']\n",
        "assists_1 = team['assists']\n",
        "\n",
        "# 맨-휘트니 검정 수행\n",
        "stat, p_value = stats.mannwhitneyu(assists_0, assists_1, alternative='two-sided')\n",
        "\n",
        "# 결과 출력\n",
        "print(\"Mann-Whitney U test statistic:\", stat)\n",
        "print(\"p-value:\", p_value)\n",
        "\n",
        "# p-value에 따른 결과 해석\n",
        "if p_value < 0.05:\n",
        "    print(\"두 집단 간 'assists'에 차이가 있습니다.\")\n",
        "else:\n",
        "    print(\"두 집단 간 'assists'에 차이가 없습니다.\")"
      ],
      "metadata": {
        "colab": {
          "base_uri": "https://localhost:8080/"
        },
        "id": "NLvDE2eQa-Bf",
        "outputId": "043fd7ee-4ff0-425d-ad29-3d6bf29ff85b"
      },
      "execution_count": 39,
      "outputs": [
        {
          "output_type": "stream",
          "name": "stdout",
          "text": [
            "Mann-Whitney U test statistic: 8444188.5\n",
            "p-value: 0.0\n",
            "두 집단 간 'assists'에 차이가 있습니다.\n"
          ]
        }
      ]
    },
    {
      "cell_type": "code",
      "source": [
        "# 'revives' 변수 추출\n",
        "revives_0 = non_team['revives']\n",
        "revives_1 = team['revives']\n",
        "\n",
        "# 맨-휘트니 검정 수행\n",
        "stat, p_value = stats.mannwhitneyu(revives_0, revives_1, alternative='two-sided')\n",
        "\n",
        "# 결과 출력\n",
        "print(\"Mann-Whitney U test statistic:\", stat)\n",
        "print(\"p-value:\", p_value)\n",
        "\n",
        "# p-value에 따른 결과 해석\n",
        "if p_value < 0.05:\n",
        "    print(\"두 집단 간 'revives'에 차이가 있습니다.\")\n",
        "else:\n",
        "    print(\"두 집단 간 'revives'에 차이가 없습니다.\")"
      ],
      "metadata": {
        "colab": {
          "base_uri": "https://localhost:8080/"
        },
        "id": "jX-z_L3RbGo-",
        "outputId": "9d942ded-811c-4677-f0a0-b8edcb3bf7cd"
      },
      "execution_count": 40,
      "outputs": [
        {
          "output_type": "stream",
          "name": "stdout",
          "text": [
            "Mann-Whitney U test statistic: 3677553.0\n",
            "p-value: 0.0\n",
            "두 집단 간 'revives'에 차이가 있습니다.\n"
          ]
        }
      ]
    },
    {
      "cell_type": "code",
      "source": [
        "#'first_location_to_team' 변수 추출\n",
        "first_location_to_team_0 = non_team['first_location_to_team']\n",
        "first_location_to_team_1 = team['first_location_to_team']\n",
        "\n",
        "# 맨-휘트니 검정 수행\n",
        "stat, p_value = stats.mannwhitneyu(first_location_to_team_0, first_location_to_team_1, alternative='two-sided')\n",
        "\n",
        "# 결과 출력\n",
        "print(\"Mann-Whitney U test statistic:\", stat)\n",
        "print(\"p-value:\", p_value)\n",
        "\n",
        "# p-value에 따른 결과 해석\n",
        "if p_value < 0.05:\n",
        "    print(\"두 집단 간 'first_location_to_team'에 차이가 있습니다.\")\n",
        "else:\n",
        "    print(\"두 집단 간 'first_location_to_team'에 차이가 없습니다.\")"
      ],
      "metadata": {
        "colab": {
          "base_uri": "https://localhost:8080/"
        },
        "id": "MYn1AUvobJRA",
        "outputId": "e04754cb-b657-4fe4-a2ef-2bc9b7443f23"
      },
      "execution_count": 41,
      "outputs": [
        {
          "output_type": "stream",
          "name": "stdout",
          "text": [
            "Mann-Whitney U test statistic: 20043956.0\n",
            "p-value: 2.289892086297739e-06\n",
            "두 집단 간 'first_location_to_team'에 차이가 있습니다.\n"
          ]
        }
      ]
    },
    {
      "cell_type": "code",
      "source": [
        "# 'location_to_team' 변수 추출\n",
        "location_to_team_0 = non_team['location_to_team']\n",
        "location_to_team_1 = team['location_to_team']\n",
        "\n",
        "# 맨-휘트니 검정 수행\n",
        "stat, p_value = stats.mannwhitneyu(location_to_team_0, location_to_team_1, alternative='two-sided')\n",
        "\n",
        "# 결과 출력\n",
        "print(\"Mann-Whitney U test statistic:\", stat)\n",
        "print(\"p-value:\", p_value)\n",
        "\n",
        "# p-value에 따른 결과 해석\n",
        "if p_value < 0.05:\n",
        "    print(\"두 집단 간 'location_to_team'에 차이가 있습니다.\")\n",
        "else:\n",
        "    print(\"두 집단 간 'location_to_team'에 차이가 없습니다.\")"
      ],
      "metadata": {
        "colab": {
          "base_uri": "https://localhost:8080/"
        },
        "id": "7eTWmCOGbKd9",
        "outputId": "2cd761e3-dda8-44d4-9255-f623b58cfe03"
      },
      "execution_count": 42,
      "outputs": [
        {
          "output_type": "stream",
          "name": "stdout",
          "text": [
            "Mann-Whitney U test statistic: 28221515.0\n",
            "p-value: 0.0\n",
            "두 집단 간 'location_to_team'에 차이가 있습니다.\n"
          ]
        }
      ]
    }
  ]
}